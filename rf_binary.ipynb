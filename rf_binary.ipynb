{
 "cells": [
  {
   "cell_type": "markdown",
   "id": "82bf82e9",
   "metadata": {
    "papermill": {
     "duration": 0.004715,
     "end_time": "2022-08-15T05:39:47.133779",
     "exception": false,
     "start_time": "2022-08-15T05:39:47.129064",
     "status": "completed"
    },
    "tags": []
   },
   "source": [
    "# Read dataset"
   ]
  },
  {
   "cell_type": "code",
   "execution_count": 1,
   "id": "d2acf5e4",
   "metadata": {
    "execution": {
     "iopub.execute_input": "2022-08-15T05:39:47.145636Z",
     "iopub.status.busy": "2022-08-15T05:39:47.144941Z",
     "iopub.status.idle": "2022-08-15T05:39:48.275471Z",
     "shell.execute_reply": "2022-08-15T05:39:48.274021Z"
    },
    "papermill": {
     "duration": 1.13946,
     "end_time": "2022-08-15T05:39:48.278229",
     "exception": false,
     "start_time": "2022-08-15T05:39:47.138769",
     "status": "completed"
    },
    "tags": []
   },
   "outputs": [
    {
     "name": "stderr",
     "output_type": "stream",
     "text": [
      "<>:3: SyntaxWarning: invalid escape sequence '\\m'\n",
      "<>:3: SyntaxWarning: invalid escape sequence '\\m'\n",
      "C:\\Users\\20235152\\AppData\\Local\\Temp\\ipykernel_19320\\2590930930.py:3: SyntaxWarning: invalid escape sequence '\\m'\n",
      "  data_df = pd.read_csv('data\\mitbih_train.csv',header=None)\n"
     ]
    },
    {
     "name": "stdout",
     "output_type": "stream",
     "text": [
      "(87554, 188)\n"
     ]
    },
    {
     "data": {
      "text/html": [
       "<div>\n",
       "<style scoped>\n",
       "    .dataframe tbody tr th:only-of-type {\n",
       "        vertical-align: middle;\n",
       "    }\n",
       "\n",
       "    .dataframe tbody tr th {\n",
       "        vertical-align: top;\n",
       "    }\n",
       "\n",
       "    .dataframe thead th {\n",
       "        text-align: right;\n",
       "    }\n",
       "</style>\n",
       "<table border=\"1\" class=\"dataframe\">\n",
       "  <thead>\n",
       "    <tr style=\"text-align: right;\">\n",
       "      <th></th>\n",
       "      <th>0</th>\n",
       "      <th>1</th>\n",
       "      <th>2</th>\n",
       "      <th>3</th>\n",
       "      <th>4</th>\n",
       "      <th>5</th>\n",
       "      <th>6</th>\n",
       "      <th>7</th>\n",
       "      <th>8</th>\n",
       "      <th>9</th>\n",
       "      <th>...</th>\n",
       "      <th>178</th>\n",
       "      <th>179</th>\n",
       "      <th>180</th>\n",
       "      <th>181</th>\n",
       "      <th>182</th>\n",
       "      <th>183</th>\n",
       "      <th>184</th>\n",
       "      <th>185</th>\n",
       "      <th>186</th>\n",
       "      <th>187</th>\n",
       "    </tr>\n",
       "  </thead>\n",
       "  <tbody>\n",
       "    <tr>\n",
       "      <th>0</th>\n",
       "      <td>0.977941</td>\n",
       "      <td>0.926471</td>\n",
       "      <td>0.681373</td>\n",
       "      <td>0.245098</td>\n",
       "      <td>0.154412</td>\n",
       "      <td>0.191176</td>\n",
       "      <td>0.151961</td>\n",
       "      <td>0.085784</td>\n",
       "      <td>0.058824</td>\n",
       "      <td>0.049020</td>\n",
       "      <td>...</td>\n",
       "      <td>0.0</td>\n",
       "      <td>0.0</td>\n",
       "      <td>0.0</td>\n",
       "      <td>0.0</td>\n",
       "      <td>0.0</td>\n",
       "      <td>0.0</td>\n",
       "      <td>0.0</td>\n",
       "      <td>0.0</td>\n",
       "      <td>0.0</td>\n",
       "      <td>0.0</td>\n",
       "    </tr>\n",
       "    <tr>\n",
       "      <th>1</th>\n",
       "      <td>0.960114</td>\n",
       "      <td>0.863248</td>\n",
       "      <td>0.461538</td>\n",
       "      <td>0.196581</td>\n",
       "      <td>0.094017</td>\n",
       "      <td>0.125356</td>\n",
       "      <td>0.099715</td>\n",
       "      <td>0.088319</td>\n",
       "      <td>0.074074</td>\n",
       "      <td>0.082621</td>\n",
       "      <td>...</td>\n",
       "      <td>0.0</td>\n",
       "      <td>0.0</td>\n",
       "      <td>0.0</td>\n",
       "      <td>0.0</td>\n",
       "      <td>0.0</td>\n",
       "      <td>0.0</td>\n",
       "      <td>0.0</td>\n",
       "      <td>0.0</td>\n",
       "      <td>0.0</td>\n",
       "      <td>0.0</td>\n",
       "    </tr>\n",
       "    <tr>\n",
       "      <th>2</th>\n",
       "      <td>1.000000</td>\n",
       "      <td>0.659459</td>\n",
       "      <td>0.186486</td>\n",
       "      <td>0.070270</td>\n",
       "      <td>0.070270</td>\n",
       "      <td>0.059459</td>\n",
       "      <td>0.056757</td>\n",
       "      <td>0.043243</td>\n",
       "      <td>0.054054</td>\n",
       "      <td>0.045946</td>\n",
       "      <td>...</td>\n",
       "      <td>0.0</td>\n",
       "      <td>0.0</td>\n",
       "      <td>0.0</td>\n",
       "      <td>0.0</td>\n",
       "      <td>0.0</td>\n",
       "      <td>0.0</td>\n",
       "      <td>0.0</td>\n",
       "      <td>0.0</td>\n",
       "      <td>0.0</td>\n",
       "      <td>0.0</td>\n",
       "    </tr>\n",
       "    <tr>\n",
       "      <th>3</th>\n",
       "      <td>0.925414</td>\n",
       "      <td>0.665746</td>\n",
       "      <td>0.541436</td>\n",
       "      <td>0.276243</td>\n",
       "      <td>0.196133</td>\n",
       "      <td>0.077348</td>\n",
       "      <td>0.071823</td>\n",
       "      <td>0.060773</td>\n",
       "      <td>0.066298</td>\n",
       "      <td>0.058011</td>\n",
       "      <td>...</td>\n",
       "      <td>0.0</td>\n",
       "      <td>0.0</td>\n",
       "      <td>0.0</td>\n",
       "      <td>0.0</td>\n",
       "      <td>0.0</td>\n",
       "      <td>0.0</td>\n",
       "      <td>0.0</td>\n",
       "      <td>0.0</td>\n",
       "      <td>0.0</td>\n",
       "      <td>0.0</td>\n",
       "    </tr>\n",
       "    <tr>\n",
       "      <th>4</th>\n",
       "      <td>0.967136</td>\n",
       "      <td>1.000000</td>\n",
       "      <td>0.830986</td>\n",
       "      <td>0.586854</td>\n",
       "      <td>0.356808</td>\n",
       "      <td>0.248826</td>\n",
       "      <td>0.145540</td>\n",
       "      <td>0.089202</td>\n",
       "      <td>0.117371</td>\n",
       "      <td>0.150235</td>\n",
       "      <td>...</td>\n",
       "      <td>0.0</td>\n",
       "      <td>0.0</td>\n",
       "      <td>0.0</td>\n",
       "      <td>0.0</td>\n",
       "      <td>0.0</td>\n",
       "      <td>0.0</td>\n",
       "      <td>0.0</td>\n",
       "      <td>0.0</td>\n",
       "      <td>0.0</td>\n",
       "      <td>0.0</td>\n",
       "    </tr>\n",
       "  </tbody>\n",
       "</table>\n",
       "<p>5 rows × 188 columns</p>\n",
       "</div>"
      ],
      "text/plain": [
       "        0         1         2         3         4         5         6    \\\n",
       "0  0.977941  0.926471  0.681373  0.245098  0.154412  0.191176  0.151961   \n",
       "1  0.960114  0.863248  0.461538  0.196581  0.094017  0.125356  0.099715   \n",
       "2  1.000000  0.659459  0.186486  0.070270  0.070270  0.059459  0.056757   \n",
       "3  0.925414  0.665746  0.541436  0.276243  0.196133  0.077348  0.071823   \n",
       "4  0.967136  1.000000  0.830986  0.586854  0.356808  0.248826  0.145540   \n",
       "\n",
       "        7         8         9    ...  178  179  180  181  182  183  184  185  \\\n",
       "0  0.085784  0.058824  0.049020  ...  0.0  0.0  0.0  0.0  0.0  0.0  0.0  0.0   \n",
       "1  0.088319  0.074074  0.082621  ...  0.0  0.0  0.0  0.0  0.0  0.0  0.0  0.0   \n",
       "2  0.043243  0.054054  0.045946  ...  0.0  0.0  0.0  0.0  0.0  0.0  0.0  0.0   \n",
       "3  0.060773  0.066298  0.058011  ...  0.0  0.0  0.0  0.0  0.0  0.0  0.0  0.0   \n",
       "4  0.089202  0.117371  0.150235  ...  0.0  0.0  0.0  0.0  0.0  0.0  0.0  0.0   \n",
       "\n",
       "   186  187  \n",
       "0  0.0  0.0  \n",
       "1  0.0  0.0  \n",
       "2  0.0  0.0  \n",
       "3  0.0  0.0  \n",
       "4  0.0  0.0  \n",
       "\n",
       "[5 rows x 188 columns]"
      ]
     },
     "execution_count": 1,
     "metadata": {},
     "output_type": "execute_result"
    }
   ],
   "source": [
    "import numpy as np \n",
    "import pandas as pd \n",
    "data_df = pd.read_csv('data\\mitbih_train.csv',header=None) \n",
    "print(data_df.shape)\n",
    "data_df.head()"
   ]
  },
  {
   "cell_type": "code",
   "execution_count": 2,
   "id": "96dc9bb6",
   "metadata": {},
   "outputs": [
    {
     "data": {
      "text/plain": [
       "187\n",
       "0.0    72471\n",
       "4.0     6431\n",
       "2.0     5788\n",
       "1.0     2223\n",
       "3.0      641\n",
       "Name: count, dtype: int64"
      ]
     },
     "execution_count": 2,
     "metadata": {},
     "output_type": "execute_result"
    }
   ],
   "source": [
    "data_df[187].value_counts()"
   ]
  },
  {
   "cell_type": "markdown",
   "id": "71bc4e32",
   "metadata": {
    "papermill": {
     "duration": 0.005093,
     "end_time": "2022-08-15T05:39:48.288802",
     "exception": false,
     "start_time": "2022-08-15T05:39:48.283709",
     "status": "completed"
    },
    "tags": []
   },
   "source": [
    "# Split the data into features and class labels"
   ]
  },
  {
   "cell_type": "code",
   "execution_count": 3,
   "id": "b76175d5",
   "metadata": {
    "execution": {
     "iopub.execute_input": "2022-08-15T05:39:48.301362Z",
     "iopub.status.busy": "2022-08-15T05:39:48.300907Z",
     "iopub.status.idle": "2022-08-15T05:39:48.318075Z",
     "shell.execute_reply": "2022-08-15T05:39:48.317081Z"
    },
    "papermill": {
     "duration": 0.026528,
     "end_time": "2022-08-15T05:39:48.320618",
     "exception": false,
     "start_time": "2022-08-15T05:39:48.294090",
     "status": "completed"
    },
    "tags": []
   },
   "outputs": [],
   "source": [
    "x_data = data_df.iloc[:, :187]\n",
    "y_label = data_df[187]"
   ]
  },
  {
   "cell_type": "code",
   "execution_count": 4,
   "id": "64578bfc",
   "metadata": {
    "execution": {
     "iopub.execute_input": "2022-08-15T05:39:48.332748Z",
     "iopub.status.busy": "2022-08-15T05:39:48.332295Z",
     "iopub.status.idle": "2022-08-15T05:39:48.357374Z",
     "shell.execute_reply": "2022-08-15T05:39:48.356154Z"
    },
    "papermill": {
     "duration": 0.033836,
     "end_time": "2022-08-15T05:39:48.359750",
     "exception": false,
     "start_time": "2022-08-15T05:39:48.325914",
     "status": "completed"
    },
    "tags": []
   },
   "outputs": [
    {
     "data": {
      "text/html": [
       "<div>\n",
       "<style scoped>\n",
       "    .dataframe tbody tr th:only-of-type {\n",
       "        vertical-align: middle;\n",
       "    }\n",
       "\n",
       "    .dataframe tbody tr th {\n",
       "        vertical-align: top;\n",
       "    }\n",
       "\n",
       "    .dataframe thead th {\n",
       "        text-align: right;\n",
       "    }\n",
       "</style>\n",
       "<table border=\"1\" class=\"dataframe\">\n",
       "  <thead>\n",
       "    <tr style=\"text-align: right;\">\n",
       "      <th></th>\n",
       "      <th>0</th>\n",
       "      <th>1</th>\n",
       "      <th>2</th>\n",
       "      <th>3</th>\n",
       "      <th>4</th>\n",
       "      <th>5</th>\n",
       "      <th>6</th>\n",
       "      <th>7</th>\n",
       "      <th>8</th>\n",
       "      <th>9</th>\n",
       "      <th>...</th>\n",
       "      <th>177</th>\n",
       "      <th>178</th>\n",
       "      <th>179</th>\n",
       "      <th>180</th>\n",
       "      <th>181</th>\n",
       "      <th>182</th>\n",
       "      <th>183</th>\n",
       "      <th>184</th>\n",
       "      <th>185</th>\n",
       "      <th>186</th>\n",
       "    </tr>\n",
       "  </thead>\n",
       "  <tbody>\n",
       "    <tr>\n",
       "      <th>0</th>\n",
       "      <td>0.977941</td>\n",
       "      <td>0.926471</td>\n",
       "      <td>0.681373</td>\n",
       "      <td>0.245098</td>\n",
       "      <td>0.154412</td>\n",
       "      <td>0.191176</td>\n",
       "      <td>0.151961</td>\n",
       "      <td>0.085784</td>\n",
       "      <td>0.058824</td>\n",
       "      <td>0.049020</td>\n",
       "      <td>...</td>\n",
       "      <td>0.0</td>\n",
       "      <td>0.0</td>\n",
       "      <td>0.0</td>\n",
       "      <td>0.0</td>\n",
       "      <td>0.0</td>\n",
       "      <td>0.0</td>\n",
       "      <td>0.0</td>\n",
       "      <td>0.0</td>\n",
       "      <td>0.0</td>\n",
       "      <td>0.0</td>\n",
       "    </tr>\n",
       "    <tr>\n",
       "      <th>1</th>\n",
       "      <td>0.960114</td>\n",
       "      <td>0.863248</td>\n",
       "      <td>0.461538</td>\n",
       "      <td>0.196581</td>\n",
       "      <td>0.094017</td>\n",
       "      <td>0.125356</td>\n",
       "      <td>0.099715</td>\n",
       "      <td>0.088319</td>\n",
       "      <td>0.074074</td>\n",
       "      <td>0.082621</td>\n",
       "      <td>...</td>\n",
       "      <td>0.0</td>\n",
       "      <td>0.0</td>\n",
       "      <td>0.0</td>\n",
       "      <td>0.0</td>\n",
       "      <td>0.0</td>\n",
       "      <td>0.0</td>\n",
       "      <td>0.0</td>\n",
       "      <td>0.0</td>\n",
       "      <td>0.0</td>\n",
       "      <td>0.0</td>\n",
       "    </tr>\n",
       "    <tr>\n",
       "      <th>2</th>\n",
       "      <td>1.000000</td>\n",
       "      <td>0.659459</td>\n",
       "      <td>0.186486</td>\n",
       "      <td>0.070270</td>\n",
       "      <td>0.070270</td>\n",
       "      <td>0.059459</td>\n",
       "      <td>0.056757</td>\n",
       "      <td>0.043243</td>\n",
       "      <td>0.054054</td>\n",
       "      <td>0.045946</td>\n",
       "      <td>...</td>\n",
       "      <td>0.0</td>\n",
       "      <td>0.0</td>\n",
       "      <td>0.0</td>\n",
       "      <td>0.0</td>\n",
       "      <td>0.0</td>\n",
       "      <td>0.0</td>\n",
       "      <td>0.0</td>\n",
       "      <td>0.0</td>\n",
       "      <td>0.0</td>\n",
       "      <td>0.0</td>\n",
       "    </tr>\n",
       "    <tr>\n",
       "      <th>3</th>\n",
       "      <td>0.925414</td>\n",
       "      <td>0.665746</td>\n",
       "      <td>0.541436</td>\n",
       "      <td>0.276243</td>\n",
       "      <td>0.196133</td>\n",
       "      <td>0.077348</td>\n",
       "      <td>0.071823</td>\n",
       "      <td>0.060773</td>\n",
       "      <td>0.066298</td>\n",
       "      <td>0.058011</td>\n",
       "      <td>...</td>\n",
       "      <td>0.0</td>\n",
       "      <td>0.0</td>\n",
       "      <td>0.0</td>\n",
       "      <td>0.0</td>\n",
       "      <td>0.0</td>\n",
       "      <td>0.0</td>\n",
       "      <td>0.0</td>\n",
       "      <td>0.0</td>\n",
       "      <td>0.0</td>\n",
       "      <td>0.0</td>\n",
       "    </tr>\n",
       "    <tr>\n",
       "      <th>4</th>\n",
       "      <td>0.967136</td>\n",
       "      <td>1.000000</td>\n",
       "      <td>0.830986</td>\n",
       "      <td>0.586854</td>\n",
       "      <td>0.356808</td>\n",
       "      <td>0.248826</td>\n",
       "      <td>0.145540</td>\n",
       "      <td>0.089202</td>\n",
       "      <td>0.117371</td>\n",
       "      <td>0.150235</td>\n",
       "      <td>...</td>\n",
       "      <td>0.0</td>\n",
       "      <td>0.0</td>\n",
       "      <td>0.0</td>\n",
       "      <td>0.0</td>\n",
       "      <td>0.0</td>\n",
       "      <td>0.0</td>\n",
       "      <td>0.0</td>\n",
       "      <td>0.0</td>\n",
       "      <td>0.0</td>\n",
       "      <td>0.0</td>\n",
       "    </tr>\n",
       "  </tbody>\n",
       "</table>\n",
       "<p>5 rows × 187 columns</p>\n",
       "</div>"
      ],
      "text/plain": [
       "        0         1         2         3         4         5         6    \\\n",
       "0  0.977941  0.926471  0.681373  0.245098  0.154412  0.191176  0.151961   \n",
       "1  0.960114  0.863248  0.461538  0.196581  0.094017  0.125356  0.099715   \n",
       "2  1.000000  0.659459  0.186486  0.070270  0.070270  0.059459  0.056757   \n",
       "3  0.925414  0.665746  0.541436  0.276243  0.196133  0.077348  0.071823   \n",
       "4  0.967136  1.000000  0.830986  0.586854  0.356808  0.248826  0.145540   \n",
       "\n",
       "        7         8         9    ...  177  178  179  180  181  182  183  184  \\\n",
       "0  0.085784  0.058824  0.049020  ...  0.0  0.0  0.0  0.0  0.0  0.0  0.0  0.0   \n",
       "1  0.088319  0.074074  0.082621  ...  0.0  0.0  0.0  0.0  0.0  0.0  0.0  0.0   \n",
       "2  0.043243  0.054054  0.045946  ...  0.0  0.0  0.0  0.0  0.0  0.0  0.0  0.0   \n",
       "3  0.060773  0.066298  0.058011  ...  0.0  0.0  0.0  0.0  0.0  0.0  0.0  0.0   \n",
       "4  0.089202  0.117371  0.150235  ...  0.0  0.0  0.0  0.0  0.0  0.0  0.0  0.0   \n",
       "\n",
       "   185  186  \n",
       "0  0.0  0.0  \n",
       "1  0.0  0.0  \n",
       "2  0.0  0.0  \n",
       "3  0.0  0.0  \n",
       "4  0.0  0.0  \n",
       "\n",
       "[5 rows x 187 columns]"
      ]
     },
     "execution_count": 4,
     "metadata": {},
     "output_type": "execute_result"
    }
   ],
   "source": [
    "x_data.head()"
   ]
  },
  {
   "cell_type": "code",
   "execution_count": 5,
   "id": "08c31955",
   "metadata": {
    "execution": {
     "iopub.execute_input": "2022-08-15T05:39:48.374248Z",
     "iopub.status.busy": "2022-08-15T05:39:48.373077Z",
     "iopub.status.idle": "2022-08-15T05:39:48.394677Z",
     "shell.execute_reply": "2022-08-15T05:39:48.393380Z"
    },
    "papermill": {
     "duration": 0.031651,
     "end_time": "2022-08-15T05:39:48.397446",
     "exception": false,
     "start_time": "2022-08-15T05:39:48.365795",
     "status": "completed"
    },
    "tags": []
   },
   "outputs": [
    {
     "data": {
      "text/plain": [
       "187\n",
       "0.0    72471\n",
       "4.0     6431\n",
       "2.0     5788\n",
       "1.0     2223\n",
       "3.0      641\n",
       "Name: count, dtype: int64"
      ]
     },
     "execution_count": 5,
     "metadata": {},
     "output_type": "execute_result"
    }
   ],
   "source": [
    "y_label.value_counts()"
   ]
  },
  {
   "cell_type": "code",
   "execution_count": 6,
   "id": "ab4c63ab",
   "metadata": {},
   "outputs": [
    {
     "data": {
      "text/plain": [
       "0    0.0\n",
       "1    0.0\n",
       "2    0.0\n",
       "3    0.0\n",
       "4    0.0\n",
       "Name: 187, dtype: float64"
      ]
     },
     "execution_count": 6,
     "metadata": {},
     "output_type": "execute_result"
    }
   ],
   "source": [
    "y_label.head()"
   ]
  },
  {
   "cell_type": "code",
   "execution_count": 7,
   "id": "d9569921",
   "metadata": {
    "execution": {
     "iopub.execute_input": "2022-08-15T05:39:48.411097Z",
     "iopub.status.busy": "2022-08-15T05:39:48.410697Z",
     "iopub.status.idle": "2022-08-15T05:39:48.454819Z",
     "shell.execute_reply": "2022-08-15T05:39:48.453684Z"
    },
    "papermill": {
     "duration": 0.055182,
     "end_time": "2022-08-15T05:39:48.458624",
     "exception": false,
     "start_time": "2022-08-15T05:39:48.403442",
     "status": "completed"
    },
    "tags": []
   },
   "outputs": [],
   "source": [
    "# Convert y_label to string type if necessary\n",
    "y_label = y_label.astype(str)\n",
    "\n",
    "# Replace multi-class labels with binary-class labels\n",
    "y_label.replace(['1.0', '2.0', '3.0', '4.0'], 'arrhythmia', inplace=True)\n",
    "y_label.replace(['0.0'], 'normal', inplace=True)\n"
   ]
  },
  {
   "cell_type": "code",
   "execution_count": 8,
   "id": "ef47bc6e",
   "metadata": {
    "execution": {
     "iopub.execute_input": "2022-08-15T05:39:48.474822Z",
     "iopub.status.busy": "2022-08-15T05:39:48.474153Z",
     "iopub.status.idle": "2022-08-15T05:39:48.496842Z",
     "shell.execute_reply": "2022-08-15T05:39:48.495425Z"
    },
    "papermill": {
     "duration": 0.033422,
     "end_time": "2022-08-15T05:39:48.500113",
     "exception": false,
     "start_time": "2022-08-15T05:39:48.466691",
     "status": "completed"
    },
    "tags": []
   },
   "outputs": [
    {
     "data": {
      "text/plain": [
       "187\n",
       "normal        72471\n",
       "arrhythmia    15083\n",
       "Name: count, dtype: int64"
      ]
     },
     "execution_count": 8,
     "metadata": {},
     "output_type": "execute_result"
    }
   ],
   "source": [
    "y_label.value_counts()"
   ]
  },
  {
   "cell_type": "markdown",
   "id": "2f15ce2f",
   "metadata": {
    "papermill": {
     "duration": 0.006521,
     "end_time": "2022-08-15T05:39:48.516379",
     "exception": false,
     "start_time": "2022-08-15T05:39:48.509858",
     "status": "completed"
    },
    "tags": []
   },
   "source": [
    "# Train-test Split"
   ]
  },
  {
   "cell_type": "code",
   "execution_count": 9,
   "id": "3aa7e2d6",
   "metadata": {
    "execution": {
     "iopub.execute_input": "2022-08-15T05:39:48.533111Z",
     "iopub.status.busy": "2022-08-15T05:39:48.532560Z",
     "iopub.status.idle": "2022-08-15T05:39:49.815874Z",
     "shell.execute_reply": "2022-08-15T05:39:49.814725Z"
    },
    "papermill": {
     "duration": 1.294793,
     "end_time": "2022-08-15T05:39:49.818877",
     "exception": false,
     "start_time": "2022-08-15T05:39:48.524084",
     "status": "completed"
    },
    "tags": []
   },
   "outputs": [],
   "source": [
    "from sklearn.model_selection import train_test_split\n",
    "X_train, X_test, y_train, y_test = train_test_split(x_data, y_label, random_state=101)"
   ]
  },
  {
   "cell_type": "markdown",
   "id": "bc83140c",
   "metadata": {
    "papermill": {
     "duration": 0.00572,
     "end_time": "2022-08-15T05:39:49.940394",
     "exception": false,
     "start_time": "2022-08-15T05:39:49.934674",
     "status": "completed"
    },
    "tags": []
   },
   "source": [
    "# Model training"
   ]
  },
  {
   "cell_type": "code",
   "execution_count": 10,
   "id": "3240cb66",
   "metadata": {
    "execution": {
     "iopub.execute_input": "2022-08-15T05:39:49.954432Z",
     "iopub.status.busy": "2022-08-15T05:39:49.953903Z",
     "iopub.status.idle": "2022-08-15T05:41:27.991517Z",
     "shell.execute_reply": "2022-08-15T05:41:27.990230Z"
    },
    "papermill": {
     "duration": 98.053649,
     "end_time": "2022-08-15T05:41:28.000152",
     "exception": false,
     "start_time": "2022-08-15T05:39:49.946503",
     "status": "completed"
    },
    "tags": []
   },
   "outputs": [
    {
     "name": "stdout",
     "output_type": "stream",
     "text": [
      "Accuracy for the train data 1.0\n"
     ]
    }
   ],
   "source": [
    "from sklearn.ensemble import RandomForestClassifier\n",
    "\n",
    "model = RandomForestClassifier(random_state=101, n_estimators=150)\n",
    "model.fit(X_train, y_train)\n",
    "\n",
    "# training accuracy\n",
    "print('Accuracy for the train data', model.score(X_train, y_train))\n"
   ]
  },
  {
   "cell_type": "markdown",
   "id": "b9d78308",
   "metadata": {
    "papermill": {
     "duration": 0.005809,
     "end_time": "2022-08-15T05:41:28.012263",
     "exception": false,
     "start_time": "2022-08-15T05:41:28.006454",
     "status": "completed"
    },
    "tags": []
   },
   "source": [
    "# Model testing"
   ]
  },
  {
   "cell_type": "code",
   "execution_count": 12,
   "id": "c161e891",
   "metadata": {
    "execution": {
     "iopub.execute_input": "2022-08-15T05:41:28.027079Z",
     "iopub.status.busy": "2022-08-15T05:41:28.026444Z",
     "iopub.status.idle": "2022-08-15T05:41:28.952474Z",
     "shell.execute_reply": "2022-08-15T05:41:28.951038Z"
    },
    "papermill": {
     "duration": 0.93679,
     "end_time": "2022-08-15T05:41:28.955125",
     "exception": false,
     "start_time": "2022-08-15T05:41:28.018335",
     "status": "completed"
    },
    "tags": []
   },
   "outputs": [
    {
     "name": "stdout",
     "output_type": "stream",
     "text": [
      "Accuracy: 0.9781625473982366\n",
      "*** Confusion Matrix ***\n",
      "[[ 3275   428]\n",
      " [   50 18136]]\n"
     ]
    }
   ],
   "source": [
    "from sklearn import metrics\n",
    "y_pred = model.predict(X_test)\n",
    "print(\"Accuracy:\",metrics.accuracy_score(y_test, y_pred))\n",
    "\n",
    "print(\"*** Confusion Matrix ***\")\n",
    "print(metrics.confusion_matrix(y_test, y_pred))"
   ]
  },
  {
   "cell_type": "code",
   "execution_count": 13,
   "id": "894990b8",
   "metadata": {
    "papermill": {
     "duration": 0.005795,
     "end_time": "2022-08-15T05:41:28.967215",
     "exception": false,
     "start_time": "2022-08-15T05:41:28.961420",
     "status": "completed"
    },
    "tags": []
   },
   "outputs": [
    {
     "name": "stdout",
     "output_type": "stream",
     "text": [
      "Cross-validation scores: [0.87579236 0.97921307 0.95499971 0.98983496 0.98806396]\n",
      "Mean accuracy: 0.957580812791542\n",
      "Standard deviation of accuracy: 0.0427399582423113\n"
     ]
    }
   ],
   "source": [
    "from sklearn.model_selection import cross_val_score\n",
    "from sklearn.ensemble import RandomForestClassifier\n",
    "\n",
    "\n",
    "model = RandomForestClassifier(random_state=101, n_estimators=150)\n",
    "\n",
    "# Perform cross-validation\n",
    "cv_scores = cross_val_score(model, x_data, y_label, cv=5)\n",
    "\n",
    "# Print the cross-validation scores\n",
    "print(\"Cross-validation scores:\", cv_scores)\n",
    "\n",
    "# Print the mean and standard deviation of the cross-validation scores\n",
    "print(\"Mean accuracy:\", cv_scores.mean())\n",
    "print(\"Standard deviation of accuracy:\", cv_scores.std())\n"
   ]
  },
  {
   "cell_type": "code",
   "execution_count": 28,
   "id": "ebd76c9a",
   "metadata": {},
   "outputs": [
    {
     "name": "stderr",
     "output_type": "stream",
     "text": [
      "Bootstrap Progress: 100%|██████████| 100/100 [2:29:02<00:00, 89.42s/it, Stage=Resampling] \n"
     ]
    }
   ],
   "source": [
    "import numpy as np\n",
    "import pandas as pd\n",
    "from sklearn.model_selection import train_test_split\n",
    "from sklearn.metrics import precision_score, recall_score, f1_score\n",
    "from tqdm import tqdm\n",
    "\n",
    "def bootstrap(X, y, model, n_samples=100):\n",
    "    models = []\n",
    "    metrics = {\"Precision\": [], \"Recall\": [], \"F1\": []}\n",
    "    sample_indices = []\n",
    "    \n",
    "    # Initialize tqdm for the overall progress\n",
    "    with tqdm(total=n_samples, desc=\"Bootstrap Progress\") as pbar_resample:\n",
    "        for i in range(n_samples):\n",
    "            pbar_resample.set_postfix({\"Stage\": \"Resampling\"})\n",
    "            # Bootstrap resampling\n",
    "            indices = np.random.choice(X.shape[0], size=X.shape[0], replace=True)\n",
    "            sample_indices.append(indices)\n",
    "            X_sample = X.iloc[indices, :]\n",
    "            y_sample = y.iloc[indices]\n",
    "            \n",
    "            # Update the resampling progress\n",
    "            pbar_resample.update(1)\n",
    "            \n",
    "            # Train-test split\n",
    "            X_train, X_test, y_train, y_test = train_test_split(\n",
    "                X_sample, y_sample, test_size=0.33, random_state=42\n",
    "            )\n",
    "\n",
    "            # Train the model\n",
    "            model.fit(X_train, y_train)\n",
    "            \n",
    "            # Evaluate the model\n",
    "            y_pred = model.predict(X_test)\n",
    "            precision = precision_score(y_test, y_pred, average=\"macro\")\n",
    "            recall = recall_score(y_test, y_pred, average=\"macro\")\n",
    "            f1 = f1_score(y_test, y_pred, average=\"macro\")\n",
    "            \n",
    "            metrics[\"Precision\"].append(precision)\n",
    "            metrics[\"Recall\"].append(recall)\n",
    "            metrics[\"F1\"].append(f1)\n",
    "            \n",
    "            # Save the trained model\n",
    "            models.append(model)\n",
    "    \n",
    "    # Create a DataFrame to store results\n",
    "    pred_df = pd.DataFrame({\n",
    "        \"Precision\": metrics[\"Precision\"],\n",
    "        \"Recall\": metrics[\"Recall\"],\n",
    "        \"F1\": metrics[\"F1\"],\n",
    "        \"Models\": models,\n",
    "        \"Sample_indices\": sample_indices,\n",
    "    })\n",
    "\n",
    "    return models, pred_df\n",
    "\n",
    "\n",
    "# Usage:\n",
    "from sklearn.ensemble import RandomForestClassifier\n",
    "\n",
    "# training based on RF\n",
    "model = RandomForestClassifier(random_state=101, n_estimators=150)\n",
    "\n",
    "# Call the bootstrap function\n",
    "models, pred_df = bootstrap(x_data, y_label, model)\n"
   ]
  },
  {
   "cell_type": "code",
   "execution_count": 29,
   "id": "6f112617",
   "metadata": {},
   "outputs": [
    {
     "name": "stdout",
     "output_type": "stream",
     "text": [
      "Summary Statistics:\n",
      "Precision: Mean = 0.9898868664145324, Std = 0.0007143656312984786\n",
      "Recall: Mean = 0.9680013294865567, Std = 0.0019548039638408693\n",
      "F1 Score: Mean = 0.9785307974156674, Std = 0.0012639433782159798\n"
     ]
    },
    {
     "data": {
      "image/png": "[encoded data removed]",
      "text/plain": [
       "<Figure size 1000x600 with 3 Axes>"
      ]
     },
     "metadata": {},
     "output_type": "display_data"
    }
   ],
   "source": [
    "import matplotlib.pyplot as plt\n",
    "\n",
    "\n",
    "# Summary statistics\n",
    "precision_mean = pred_df['Precision'].mean()\n",
    "precision_std = pred_df['Precision'].std()\n",
    "recall_mean = pred_df['Recall'].mean()\n",
    "recall_std = pred_df['Recall'].std()\n",
    "f1_mean = pred_df['F1'].mean()\n",
    "f1_std = pred_df['F1'].std()\n",
    "\n",
    "print(\"Summary Statistics:\")\n",
    "print(f\"Precision: Mean = {precision_mean}, Std = {precision_std}\")\n",
    "print(f\"Recall: Mean = {recall_mean}, Std = {recall_std}\")\n",
    "print(f\"F1 Score: Mean = {f1_mean}, Std = {f1_std}\")\n",
    "\n",
    "# Visualization\n",
    "plt.figure(figsize=(10, 6))\n",
    "\n",
    "# Precision distribution\n",
    "plt.subplot(2, 2, 1)\n",
    "plt.hist(pred_df['Precision'], bins=20, color='blue', alpha=0.7)\n",
    "plt.axvline(precision_mean, color='red', linestyle='dashed', linewidth=1)\n",
    "plt.title('Precision Distribution')\n",
    "plt.xlabel('Precision')\n",
    "plt.ylabel('Frequency')\n",
    "plt.legend(['Mean', 'Precision'])\n",
    "\n",
    "# Recall distribution\n",
    "plt.subplot(2, 2, 2)\n",
    "plt.hist(pred_df['Recall'], bins=20, color='green', alpha=0.7)\n",
    "plt.axvline(recall_mean, color='red', linestyle='dashed', linewidth=1)\n",
    "plt.title('Recall Distribution')\n",
    "plt.xlabel('Recall')\n",
    "plt.ylabel('Frequency')\n",
    "plt.legend(['Mean', 'Recall'])\n",
    "\n",
    "# F1 Score distribution\n",
    "plt.subplot(2, 2, 3)\n",
    "plt.hist(pred_df['F1'], bins=20, color='orange', alpha=0.7)\n",
    "plt.axvline(f1_mean, color='red', linestyle='dashed', linewidth=1)\n",
    "plt.title('F1 Score Distribution')\n",
    "plt.xlabel('F1 Score')\n",
    "plt.ylabel('Frequency')\n",
    "plt.legend(['Mean', 'F1 Score'])\n",
    "\n",
    "plt.tight_layout()\n",
    "plt.show()\n"
   ]
  },
  {
   "cell_type": "code",
   "execution_count": 30,
   "id": "45090abf",
   "metadata": {},
   "outputs": [
    {
     "name": "stdout",
     "output_type": "stream",
     "text": [
      "Confidence Intervals:\n",
      "Precision: [0.9897468507507979, 0.9900268820782668]\n",
      "Recall: [0.9676181879096439, 0.9683844710634695]\n",
      "F1 Score: [0.9782830645135371, 0.9787785303177977]\n"
     ]
    },
    {
     "data": {
      "image/png": "[encoded data removed]",
      "text/plain": [
       "<Figure size 1000x600 with 3 Axes>"
      ]
     },
     "metadata": {},
     "output_type": "display_data"
    }
   ],
   "source": [
    "import numpy as np\n",
    "import matplotlib.pyplot as plt\n",
    "import seaborn as sns\n",
    "\n",
    "\n",
    "# Compute confidence intervals\n",
    "alpha = 0.95  # Confidence level\n",
    "z_critical = 1.96  # For 95% confidence level\n",
    "\n",
    "precision_mean = pred_df['Precision'].mean()\n",
    "precision_std = pred_df['Precision'].std()\n",
    "precision_ci = z_critical * (precision_std / np.sqrt(len(pred_df)))\n",
    "precision_lower_bound = precision_mean - precision_ci\n",
    "precision_upper_bound = precision_mean + precision_ci\n",
    "\n",
    "recall_mean = pred_df['Recall'].mean()\n",
    "recall_std = pred_df['Recall'].std()\n",
    "recall_ci = z_critical * (recall_std / np.sqrt(len(pred_df)))\n",
    "recall_lower_bound = recall_mean - recall_ci\n",
    "recall_upper_bound = recall_mean + recall_ci\n",
    "\n",
    "f1_mean = pred_df['F1'].mean()\n",
    "f1_std = pred_df['F1'].std()\n",
    "f1_ci = z_critical * (f1_std / np.sqrt(len(pred_df)))\n",
    "f1_lower_bound = f1_mean - f1_ci\n",
    "f1_upper_bound = f1_mean + f1_ci\n",
    "\n",
    "# Print confidence intervals\n",
    "print(\"Confidence Intervals:\")\n",
    "print(f\"Precision: [{precision_lower_bound}, {precision_upper_bound}]\")\n",
    "print(f\"Recall: [{recall_lower_bound}, {recall_upper_bound}]\")\n",
    "print(f\"F1 Score: [{f1_lower_bound}, {f1_upper_bound}]\")\n",
    "\n",
    "# Visualize confidence intervals\n",
    "plt.figure(figsize=(10, 6))\n",
    "\n",
    "# Precision\n",
    "plt.subplot(1, 3, 1)\n",
    "sns.barplot(x=['Precision'], y=[precision_mean], color='blue', alpha=0.7)\n",
    "plt.errorbar(x=['Precision'], y=[precision_mean], yerr=[[precision_mean - precision_lower_bound], [precision_upper_bound - precision_mean]], fmt='o', color='black')\n",
    "plt.title('Precision')\n",
    "plt.ylabel('Value')\n",
    "plt.ylim(0, 1)\n",
    "\n",
    "# Recall\n",
    "plt.subplot(1, 3, 2)\n",
    "sns.barplot(x=['Recall'], y=[recall_mean], color='green', alpha=0.7)\n",
    "plt.errorbar(x=['Recall'], y=[recall_mean], yerr=[[recall_mean - recall_lower_bound], [recall_upper_bound - recall_mean]], fmt='o', color='black')\n",
    "plt.title('Recall')\n",
    "plt.ylabel('Value')\n",
    "plt.ylim(0, 1)\n",
    "\n",
    "# F1 Score\n",
    "plt.subplot(1, 3, 3)\n",
    "sns.barplot(x=['F1 Score'], y=[f1_mean], color='orange', alpha=0.7)\n",
    "plt.errorbar(x=['F1 Score'], y=[f1_mean], yerr=[[f1_mean - f1_lower_bound], [f1_upper_bound - f1_mean]], fmt='o', color='black')\n",
    "plt.title('F1 Score')\n",
    "plt.ylabel('Value')\n",
    "plt.ylim(0, 1)\n",
    "\n",
    "plt.tight_layout()\n",
    "plt.show()\n"
   ]
  },
  {
   "cell_type": "code",
   "execution_count": 31,
   "id": "24e02d16",
   "metadata": {},
   "outputs": [
    {
     "name": "stdout",
     "output_type": "stream",
     "text": [
      "Mean and Confidence Intervals:\n",
      "Precision: Mean=0.9898868664145324, CI=[0.9897468507507979, 0.9900268820782668]\n",
      "Recall: Mean=0.9680013294865567, CI=[0.9676181879096439, 0.9683844710634695]\n",
      "F1 Score: Mean=0.9785307974156674, CI=[0.9782830645135371, 0.9787785303177977]\n"
     ]
    },
    {
     "data": {
      "image/png": "[encoded data removed]",
      "text/plain": [
       "<Figure size 1000x600 with 3 Axes>"
      ]
     },
     "metadata": {},
     "output_type": "display_data"
    }
   ],
   "source": [
    "import matplotlib.pyplot as plt\n",
    "import seaborn as sns\n",
    "\n",
    "# Check if pred_df is a DataFrame\n",
    "if isinstance(pred_df, pd.DataFrame):\n",
    "    # Compute mean and confidence intervals for each metric\n",
    "    precision_mean = pred_df['Precision'].mean()\n",
    "    recall_mean = pred_df['Recall'].mean()\n",
    "    f1_mean = pred_df['F1'].mean()\n",
    "\n",
    "    precision_std = pred_df['Precision'].std()\n",
    "    recall_std = pred_df['Recall'].std()\n",
    "    f1_std = pred_df['F1'].std()\n",
    "\n",
    "    z_critical = 1.96  # For 95% confidence level\n",
    "\n",
    "    precision_ci = z_critical * (precision_std / np.sqrt(len(pred_df)))\n",
    "    recall_ci = z_critical * (recall_std / np.sqrt(len(pred_df)))\n",
    "    f1_ci = z_critical * (f1_std / np.sqrt(len(pred_df)))\n",
    "\n",
    "    # Print mean and confidence intervals\n",
    "    print(\"Mean and Confidence Intervals:\")\n",
    "    print(f\"Precision: Mean={precision_mean}, CI=[{precision_mean - precision_ci}, {precision_mean + precision_ci}]\")\n",
    "    print(f\"Recall: Mean={recall_mean}, CI=[{recall_mean - recall_ci}, {recall_mean + recall_ci}]\")\n",
    "    print(f\"F1 Score: Mean={f1_mean}, CI=[{f1_mean - f1_ci}, {f1_mean + f1_ci}]\")\n",
    "\n",
    "    # Visualize mean intervals\n",
    "    plt.figure(figsize=(10, 6))\n",
    "\n",
    "    # Precision\n",
    "    plt.subplot(1, 3, 1)\n",
    "    plt.errorbar(x=['Precision'], y=[precision_mean], yerr=[[precision_mean - precision_ci], [precision_ci]], fmt='o', color='blue')\n",
    "    plt.title('Precision')\n",
    "    plt.ylabel('Value')\n",
    "\n",
    "    # Recall\n",
    "    plt.subplot(1, 3, 2)\n",
    "    plt.errorbar(x=['Recall'], y=[recall_mean], yerr=[[recall_mean - recall_ci], [recall_ci]], fmt='o', color='green')\n",
    "    plt.title('Recall')\n",
    "    plt.ylabel('Value')\n",
    "\n",
    "    # F1 Score\n",
    "    plt.subplot(1, 3, 3)\n",
    "    plt.errorbar(x=['F1 Score'], y=[f1_mean], yerr=[[f1_mean - f1_ci], [f1_ci]], fmt='o', color='orange')\n",
    "    plt.title('F1 Score')\n",
    "    plt.ylabel('Value')\n",
    "\n",
    "    plt.tight_layout()\n",
    "    plt.show()\n",
    "else:\n",
    "    print(\"pred_df is not a DataFrame.\")\n"
   ]
  },
  {
   "cell_type": "code",
   "execution_count": null,
   "id": "571354b7",
   "metadata": {},
   "outputs": [],
   "source": []
  }
 ],
 "metadata": {
  "kernelspec": {
   "display_name": "Python 3",
   "language": "python",
   "name": "python3"
  },
  "language_info": {
   "codemirror_mode": {
    "name": "ipython",
    "version": 3
   },
   "file_extension": ".py",
   "mimetype": "text/x-python",
   "name": "python",
   "nbconvert_exporter": "python",
   "pygments_lexer": "ipython3",
   "version": "3.12.2"
  },
  "papermill": {
   "default_parameters": {},
   "duration": 111.91448,
   "end_time": "2022-08-15T05:41:29.694994",
   "environment_variables": {},
   "exception": null,
   "input_path": "__notebook__.ipynb",
   "output_path": "__notebook__.ipynb",
   "parameters": {},
   "start_time": "2022-08-15T05:39:37.780514",
   "version": "2.3.4"
  }
 },
 "nbformat": 4,
 "nbformat_minor": 5
}
