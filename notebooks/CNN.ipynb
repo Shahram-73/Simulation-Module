{
 "cells": [
  {
   "cell_type": "code",
   "execution_count": 1,
   "id": "1af62087-874a-4ec0-9c80-fccb524dc13d",
   "metadata": {},
   "outputs": [],
   "source": [
    "import numpy as np\n",
    "import pandas as pd\n",
    "import seaborn as sns\n",
    "import matplotlib.pyplot as plt\n",
    "from sklearn.metrics import classification_report\n",
    "from sklearn.model_selection import train_test_split\n",
    "from sklearn.metrics import f1_score, roc_auc_score, accuracy_score, precision_score, recall_score\n",
    "from sklearn.metrics import confusion_matrix\n",
    "from keras.utils import to_categorical\n",
    "from sklearn.utils import class_weight\n",
    "import warnings\n",
    "warnings.filterwarnings('ignore')\n",
    "import random\n",
    "# Random Initialization\n",
    "random.seed(42)"
   ]
  },
  {
   "cell_type": "code",
   "execution_count": 2,
   "id": "88228887-8656-422a-85fc-ad243bacb7df",
   "metadata": {},
   "outputs": [],
   "source": [
    "train_df=pd.read_csv('C:/Users/20235153/Modeling & Simulation/mitbih_train.csv',header=None)\n",
    "test_df=pd.read_csv('C:/Users/20235153/Modeling & Simulation/mitbih_test.csv',header=None)"
   ]
  },
  {
   "cell_type": "code",
   "execution_count": 3,
   "id": "89b585a5-377c-4a1f-943a-85ee2cef5d0d",
   "metadata": {},
   "outputs": [
    {
     "name": "stdout",
     "output_type": "stream",
     "text": [
      "Train Data Shape: (87554, 188) \n",
      "Test Data Shape: (21892, 188)\n"
     ]
    }
   ],
   "source": [
    "print('Train Data Shape:', train_df.shape, '\\nTest Data Shape:', test_df.shape)"
   ]
  },
  {
   "cell_type": "code",
   "execution_count": 4,
   "id": "5a407aff-fd81-4aaf-a339-8a4576f9774d",
   "metadata": {},
   "outputs": [
    {
     "name": "stdout",
     "output_type": "stream",
     "text": [
      "<class 'pandas.core.frame.DataFrame'>\n",
      "RangeIndex: 87554 entries, 0 to 87553\n",
      "Columns: 188 entries, 0 to 187\n",
      "dtypes: float64(188)\n",
      "memory usage: 125.6 MB\n"
     ]
    }
   ],
   "source": [
    "train_df.info()"
   ]
  },
  {
   "cell_type": "code",
   "execution_count": 5,
   "id": "d8f69b86-c4ba-4c1f-a384-e577b8b98980",
   "metadata": {},
   "outputs": [
    {
     "name": "stdout",
     "output_type": "stream",
     "text": [
      "<class 'pandas.core.frame.DataFrame'>\n",
      "RangeIndex: 21892 entries, 0 to 21891\n",
      "Columns: 188 entries, 0 to 187\n",
      "dtypes: float64(188)\n",
      "memory usage: 31.4 MB\n"
     ]
    }
   ],
   "source": [
    "test_df.info()"
   ]
  },
  {
   "cell_type": "code",
   "execution_count": 6,
   "id": "e4259593-d1e6-457b-8ebe-59f11aa96750",
   "metadata": {},
   "outputs": [],
   "source": [
    "categories_train = train_df[187].value_counts()"
   ]
  },
  {
   "cell_type": "code",
   "execution_count": 7,
   "id": "e724d74e-f26b-4315-a0f7-ad4da9b114d4",
   "metadata": {},
   "outputs": [
    {
     "name": "stdout",
     "output_type": "stream",
     "text": [
      "0.0    72471\n",
      "4.0     6431\n",
      "2.0     5788\n",
      "1.0     2223\n",
      "3.0      641\n",
      "Name: 187, dtype: int64\n"
     ]
    }
   ],
   "source": [
    "print(categories_train)"
   ]
  },
  {
   "cell_type": "code",
   "execution_count": 8,
   "id": "a6e7c689-13b8-4a1f-b4f7-329205f88c40",
   "metadata": {},
   "outputs": [
    {
     "name": "stdout",
     "output_type": "stream",
     "text": [
      "0.0    18118\n",
      "4.0     1608\n",
      "2.0     1448\n",
      "1.0      556\n",
      "3.0      162\n",
      "Name: 187, dtype: int64\n"
     ]
    }
   ],
   "source": [
    "categories_test = test_df[187].value_counts()\n",
    "print(categories_test)"
   ]
  },
  {
   "cell_type": "code",
   "execution_count": 9,
   "id": "0ba87bf4-a937-4320-b508-5be3d21c6777",
   "metadata": {},
   "outputs": [],
   "source": [
    "#change the label type from float to integer\n",
    "train_df[187] = train_df[187].astype(int)\n",
    "test_df[187] = test_df[187].astype(int)"
   ]
  },
  {
   "cell_type": "code",
   "execution_count": 10,
   "id": "392891b5-c80d-4b6c-bc2d-b8b15bffe962",
   "metadata": {},
   "outputs": [
    {
     "data": {
      "image/png": "[encoded data removed]",
      "text/plain": [
       "<Figure size 1000x700 with 1 Axes>"
      ]
     },
     "metadata": {},
     "output_type": "display_data"
    }
   ],
   "source": [
    "plt.figure(figsize=(10,7))\n",
    "my_circle=plt.Circle( (0,0), 0.7, color='white')\n",
    "plt.pie(categories_train, labels=['n','q','v','s','f'], colors=['red','green','blue','skyblue','orange'],autopct='%1.1f%%')\n",
    "p=plt.gcf()\n",
    "p.gca().add_artist(my_circle)\n",
    "plt.show()"
   ]
  },
  {
   "cell_type": "markdown",
   "id": "4d340f02-ea63-4eb9-bb58-dc63e3843f6f",
   "metadata": {},
   "source": [
    "#### Handling Data Imbalance"
   ]
  },
  {
   "cell_type": "code",
   "execution_count": 11,
   "id": "46b444f6-ce50-41af-9f7e-252ba8158cf6",
   "metadata": {},
   "outputs": [
    {
     "data": {
      "text/plain": [
       "'\\nfrom sklearn.utils import resample\\ndf_1=train_df[train_df[187]==1]\\ndf_2=train_df[train_df[187]==2]\\ndf_3=train_df[train_df[187]==3]\\ndf_4=train_df[train_df[187]==4]\\ndf_0=(train_df[train_df[187]==0]).sample(n=20000,random_state=42)\\n\\ndf_1_upsample=resample(df_1,replace=True,n_samples=20000,random_state=123)\\ndf_2_upsample=resample(df_2,replace=True,n_samples=20000,random_state=124)\\ndf_3_upsample=resample(df_3,replace=True,n_samples=20000,random_state=125)\\ndf_4_upsample=resample(df_4,replace=True,n_samples=20000,random_state=126)\\n\\ntrain_df=pd.concat([df_0,df_1_upsample,df_2_upsample,df_3_upsample,df_4_upsample])\\n'"
      ]
     },
     "execution_count": 11,
     "metadata": {},
     "output_type": "execute_result"
    }
   ],
   "source": [
    "'''\n",
    "from sklearn.utils import resample\n",
    "df_1=train_df[train_df[187]==1]\n",
    "df_2=train_df[train_df[187]==2]\n",
    "df_3=train_df[train_df[187]==3]\n",
    "df_4=train_df[train_df[187]==4]\n",
    "df_0=(train_df[train_df[187]==0]).sample(n=20000,random_state=42)\n",
    "\n",
    "df_1_upsample=resample(df_1,replace=True,n_samples=20000,random_state=123)\n",
    "df_2_upsample=resample(df_2,replace=True,n_samples=20000,random_state=124)\n",
    "df_3_upsample=resample(df_3,replace=True,n_samples=20000,random_state=125)\n",
    "df_4_upsample=resample(df_4,replace=True,n_samples=20000,random_state=126)\n",
    "\n",
    "train_df=pd.concat([df_0,df_1_upsample,df_2_upsample,df_3_upsample,df_4_upsample])\n",
    "'''"
   ]
  },
  {
   "cell_type": "code",
   "execution_count": 12,
   "id": "ecafb6f5-2467-4b9a-9a0b-c2bdbdc049b9",
   "metadata": {},
   "outputs": [],
   "source": [
    "#eq = train_df[187].value_counts()"
   ]
  },
  {
   "cell_type": "code",
   "execution_count": 13,
   "id": "c06f512b-5a7b-40c8-9c7a-e64189e58902",
   "metadata": {},
   "outputs": [
    {
     "data": {
      "text/plain": [
       "\"\\nplt.figure(figsize=(10,7))\\nmy_circle=plt.Circle( (0,0), 0.7, color='white')\\nplt.pie(eq, labels=['n','q','v','s','f'], colors=['red','green','blue','skyblue','orange'],autopct='%1.1f%%')\\np=plt.gcf()\\np.gca().add_artist(my_circle)\\nplt.show()\\n\""
      ]
     },
     "execution_count": 13,
     "metadata": {},
     "output_type": "execute_result"
    }
   ],
   "source": [
    "'''\n",
    "plt.figure(figsize=(10,7))\n",
    "my_circle=plt.Circle( (0,0), 0.7, color='white')\n",
    "plt.pie(eq, labels=['n','q','v','s','f'], colors=['red','green','blue','skyblue','orange'],autopct='%1.1f%%')\n",
    "p=plt.gcf()\n",
    "p.gca().add_artist(my_circle)\n",
    "plt.show()\n",
    "'''"
   ]
  },
  {
   "cell_type": "markdown",
   "id": "0074f71f-7311-4866-9576-adea7ce399bf",
   "metadata": {},
   "source": [
    "#### Make it Binary"
   ]
  },
  {
   "cell_type": "code",
   "execution_count": 14,
   "id": "72ba7766-7512-46dd-9403-824ed45b1600",
   "metadata": {},
   "outputs": [],
   "source": [
    "train_df[187] = [1 if i > 0 else i for i in train_df[187]]\n",
    "test_df[187] = [1 if i > 0 else i for i in test_df[187]]"
   ]
  },
  {
   "cell_type": "code",
   "execution_count": 15,
   "id": "62d73e28-edbf-46aa-b5e8-884b43feee48",
   "metadata": {},
   "outputs": [],
   "source": [
    "categories_1 = train_df[187].value_counts()"
   ]
  },
  {
   "cell_type": "code",
   "execution_count": 16,
   "id": "676a4414-7d38-4c00-b11c-3b2cd9bd10c2",
   "metadata": {},
   "outputs": [
    {
     "data": {
      "image/png": "[encoded data removed]",
      "text/plain": [
       "<Figure size 1000x700 with 1 Axes>"
      ]
     },
     "metadata": {},
     "output_type": "display_data"
    }
   ],
   "source": [
    "plt.figure(figsize=(10,7))\n",
    "my_circle_1 =plt.Circle( (0,0), 0.7, color='white')\n",
    "plt.pie(categories_1, labels=['normal','arrhythmia'], colors=['green','red'], autopct='%1.1f%%')\n",
    "p=plt.gcf()\n",
    "p.gca().add_artist(my_circle_1)\n",
    "plt.show()"
   ]
  },
  {
   "cell_type": "markdown",
   "id": "9ddc385b-1c36-4a64-b7f3-752f95cb4993",
   "metadata": {},
   "source": [
    "#### Adding Noise"
   ]
  },
  {
   "cell_type": "code",
   "execution_count": 17,
   "id": "d07d6016-56de-484d-8e29-77d771325239",
   "metadata": {},
   "outputs": [],
   "source": [
    "def add_gaussian_noise(signal):\n",
    "    noise=np.random.normal(0,0.5,186)\n",
    "    return (signal+noise)"
   ]
  },
  {
   "cell_type": "code",
   "execution_count": 18,
   "id": "c9d305e8-35ed-4781-9679-cc3ef1a8f68a",
   "metadata": {},
   "outputs": [],
   "source": [
    "y_train=train_df[187]\n",
    "y_test=test_df[187]"
   ]
  },
  {
   "cell_type": "code",
   "execution_count": 19,
   "id": "dfe90442-0d22-47a9-8a55-0ba6a4448e03",
   "metadata": {},
   "outputs": [],
   "source": [
    "X_train=train_df.iloc[:,:186].values\n",
    "X_test=test_df.iloc[:,:186].values"
   ]
  },
  {
   "cell_type": "code",
   "execution_count": 20,
   "id": "a38abc8d-bbfc-460a-92ca-9ac8fb1a1097",
   "metadata": {},
   "outputs": [],
   "source": [
    "for i in range(len(X_train)):\n",
    "    X_train[i,:186]= add_gaussian_noise(X_train[i,:186])\n",
    "X_train = X_train.reshape(len(X_train), X_train.shape[1],1)\n",
    "X_test = X_test.reshape(len(X_test), X_test.shape[1],1)"
   ]
  },
  {
   "cell_type": "markdown",
   "id": "b98701d6-4e45-4bf8-9673-149deb25f97b",
   "metadata": {},
   "source": [
    "#### Balance Training Data with Weights"
   ]
  },
  {
   "cell_type": "code",
   "execution_count": 21,
   "id": "eda2bbfd-26f0-4481-8e06-ffef742318b0",
   "metadata": {},
   "outputs": [],
   "source": [
    "#from sklearn.utils.class_weight import compute_class_weight"
   ]
  },
  {
   "cell_type": "code",
   "execution_count": 22,
   "id": "0a494232-8661-4758-bde9-c05f273e0f98",
   "metadata": {},
   "outputs": [],
   "source": [
    "#class_weights = compute_class_weight(class_weight='balanced', classes=np.unique(y_train.ravel()), y=y_train.ravel())"
   ]
  },
  {
   "cell_type": "code",
   "execution_count": 23,
   "id": "7a706523-da79-4808-95b2-788195a268e4",
   "metadata": {},
   "outputs": [],
   "source": [
    "#class_weights_dict = {i: class_weights[i] for i in range(len(class_weights))}"
   ]
  },
  {
   "cell_type": "markdown",
   "id": "44989f7f-c967-4a56-9722-3ca920cfd20f",
   "metadata": {},
   "source": [
    "#### CNN Model"
   ]
  },
  {
   "cell_type": "code",
   "execution_count": 24,
   "id": "018c64d4-9a3d-4949-8646-9052c57fdad6",
   "metadata": {},
   "outputs": [],
   "source": [
    "def network(X_train,y_train,X_test,y_test):\n",
    "    \n",
    "\n",
    "    im_shape=(X_train.shape[1],1)\n",
    "    inputs_cnn=Input(shape=(im_shape), name='inputs_cnn')\n",
    "    conv1_1=Convolution1D(64, (6), activation='relu', input_shape=im_shape)(inputs_cnn)\n",
    "    conv1_1=BatchNormalization()(conv1_1)\n",
    "    pool1=MaxPool1D(pool_size=(3), strides=(2), padding=\"same\")(conv1_1)\n",
    "    conv2_1=Convolution1D(64, (3), activation='relu', input_shape=im_shape)(pool1)\n",
    "    conv2_1=BatchNormalization()(conv2_1)\n",
    "    pool2=MaxPool1D(pool_size=(2), strides=(2), padding=\"same\")(conv2_1)\n",
    "    conv3_1=Convolution1D(64, (3), activation='relu', input_shape=im_shape)(pool2)\n",
    "    conv3_1=BatchNormalization()(conv3_1)\n",
    "    pool3=MaxPool1D(pool_size=(2), strides=(2), padding=\"same\")(conv3_1)\n",
    "    flatten=Flatten()(pool3)\n",
    "    dense_end1 = Dense(64, activation='relu')(flatten)\n",
    "    dense_end2 = Dense(32, activation='relu')(dense_end1)\n",
    "    main_output = Dense(1, activation='sigmoid', name='main_output')(dense_end2)\n",
    "    \n",
    "    model = Model(inputs= inputs_cnn, outputs=main_output)\n",
    "    model.compile(optimizer='adam', loss='binary_crossentropy',metrics = ['accuracy'])\n",
    "    \n",
    "    \n",
    "    callbacks = [EarlyStopping(monitor='val_loss', patience=8),\n",
    "             ModelCheckpoint(filepath='best_model.h5', monitor='val_loss', save_best_only=True)]\n",
    "\n",
    "    history=model.fit(X_train, y_train,epochs=10,callbacks=callbacks, batch_size=32,validation_data=(X_test,y_test), verbose=0)\n",
    "    model.load_weights('best_model.h5')\n",
    "    return(model,history)"
   ]
  },
  {
   "cell_type": "code",
   "execution_count": 25,
   "id": "67bbd3e7-27fd-4345-83f6-5ae2a3a7e340",
   "metadata": {},
   "outputs": [],
   "source": [
    "def evaluate_model(history,X_test,y_test,model):\n",
    "    scores = model.evaluate((X_test),y_test, verbose=0)\n",
    "    print(\"Accuracy: %.2f%%\" % (scores[1]*100))\n",
    "    \n",
    "    print(history)\n",
    "    fig1, ax_acc = plt.subplots()\n",
    "    plt.plot(history.history['accuracy'])\n",
    "    plt.plot(history.history['val_accuracy'])\n",
    "    plt.xlabel('Epoch')\n",
    "    plt.ylabel('Accuracy')\n",
    "    plt.title('Model - Accuracy')\n",
    "    plt.legend(['Training', 'Validation'], loc='lower right')\n",
    "    plt.show()\n",
    "\n",
    "    fig2, ax_loss = plt.subplots()\n",
    "    plt.xlabel('Epoch')\n",
    "    plt.ylabel('Loss')\n",
    "    plt.title('Model- Loss')\n",
    "    plt.legend(['Training', 'Validation'], loc='upper right')\n",
    "    plt.plot(history.history['loss'])\n",
    "    plt.plot(history.history['val_loss'])\n",
    "    plt.show()\n",
    "    target_names=['0','1']\n",
    "    \n",
    "    y_true=[]\n",
    "    for element in y_test:\n",
    "        y_true.append(np.argmax(element))\n",
    "    prediction_proba=model.predict(X_test)\n",
    "    prediction=np.argmax(prediction_proba,axis=1)\n",
    "    cnf_matrix = confusion_matrix(y_true, prediction)"
   ]
  },
  {
   "cell_type": "code",
   "execution_count": 26,
   "id": "3f3af54c-d3a0-4c99-9a58-9c27815d36bb",
   "metadata": {},
   "outputs": [],
   "source": [
    "import keras\n",
    "from keras.layers import Dense, Convolution1D, MaxPool1D, Flatten, Dropout\n",
    "from keras.layers import Input\n",
    "from keras.models import Model\n",
    "from keras.layers import BatchNormalization\n",
    "from keras.callbacks import EarlyStopping, ModelCheckpoint\n",
    "\n",
    "model,history=network(X_train,y_train,X_test,y_test)"
   ]
  },
  {
   "cell_type": "code",
   "execution_count": 27,
   "id": "5c657437-60c8-4aab-883c-bbcdd5131abd",
   "metadata": {},
   "outputs": [
    {
     "name": "stdout",
     "output_type": "stream",
     "text": [
      "Accuracy: 93.12%\n",
      "<keras.src.callbacks.History object at 0x000001CC2C985510>\n"
     ]
    },
    {
     "data": {
      "image/png": "[encoded data removed]",
      "text/plain": [
       "<Figure size 640x480 with 1 Axes>"
      ]
     },
     "metadata": {},
     "output_type": "display_data"
    },
    {
     "data": {
      "image/png": "[encoded data removed]",
      "text/plain": [
       "<Figure size 640x480 with 1 Axes>"
      ]
     },
     "metadata": {},
     "output_type": "display_data"
    },
    {
     "name": "stdout",
     "output_type": "stream",
     "text": [
      "685/685 [==============================] - 3s 4ms/step\n",
      "685/685 [==============================] - 3s 4ms/step\n"
     ]
    }
   ],
   "source": [
    "#evaluate_model(history,X_test,y_test,model)\n",
    "evaluate_model(history,X_test,y_test,model)\n",
    "y_pred=model.predict(X_test)"
   ]
  },
  {
   "cell_type": "code",
   "execution_count": 28,
   "id": "fc82d3de-639e-4119-9c48-f9f8af91cef1",
   "metadata": {},
   "outputs": [
    {
     "data": {
      "text/plain": [
       "'\\nimport itertools\\ndef plot_confusion_matrix(cm, classes,\\n                          normalize=False,\\n                          title=\\'Confusion matrix\\',\\n                          cmap=plt.cm.Blues):\\n    \"\"\"\\n    This function prints and plots the confusion matrix.\\n    Normalization can be applied by setting `normalize=True`.\\n    \"\"\"\\n    if normalize:\\n        cm = cm.astype(\\'float\\') / cm.sum(axis=1)[:, np.newaxis]\\n        print(\"Normalized confusion matrix\")\\n    else:\\n        print(\\'Confusion matrix, without normalization\\')\\n\\n    plt.imshow(cm, interpolation=\\'nearest\\', cmap=cmap)\\n    plt.title(title)\\n    plt.colorbar()\\n    tick_marks = np.arange(len(classes))\\n    plt.xticks(tick_marks, classes, rotation=45)\\n    plt.yticks(tick_marks, classes)\\n\\n    fmt = \\'.2f\\' if normalize else \\'d\\'\\n    thresh = cm.max() / 2.\\n    for i, j in itertools.product(range(cm.shape[0]), range(cm.shape[1])):\\n        plt.text(j, i, format(cm[i, j], fmt),\\n                 horizontalalignment=\"center\",\\n                 color=\"white\" if cm[i, j] > thresh else \"black\")\\n\\n    plt.tight_layout()\\n    plt.ylabel(\\'True label\\')\\n    plt.xlabel(\\'Predicted label\\')\\n\\n# Compute confusion matrix\\ncnf_matrix = confusion_matrix(y_test.argmax(axis=1), y_pred.argmax(axis=1))\\nnp.set_printoptions(precision=2)\\n\\n# Plot non-normalized confusion matrix\\nplt.figure(figsize=(10, 10))\\nplot_confusion_matrix(cnf_matrix, classes=[\\'N\\', \\'S\\', \\'V\\', \\'F\\', \\'Q\\'],normalize=True,\\n                      title=\\'Confusion matrix, with normalization\\')\\nplt.show()\\n'"
      ]
     },
     "execution_count": 28,
     "metadata": {},
     "output_type": "execute_result"
    }
   ],
   "source": [
    "'''\n",
    "import itertools\n",
    "def plot_confusion_matrix(cm, classes,\n",
    "                          normalize=False,\n",
    "                          title='Confusion matrix',\n",
    "                          cmap=plt.cm.Blues):\n",
    "    \"\"\"\n",
    "    This function prints and plots the confusion matrix.\n",
    "    Normalization can be applied by setting `normalize=True`.\n",
    "    \"\"\"\n",
    "    if normalize:\n",
    "        cm = cm.astype('float') / cm.sum(axis=1)[:, np.newaxis]\n",
    "        print(\"Normalized confusion matrix\")\n",
    "    else:\n",
    "        print('Confusion matrix, without normalization')\n",
    "\n",
    "    plt.imshow(cm, interpolation='nearest', cmap=cmap)\n",
    "    plt.title(title)\n",
    "    plt.colorbar()\n",
    "    tick_marks = np.arange(len(classes))\n",
    "    plt.xticks(tick_marks, classes, rotation=45)\n",
    "    plt.yticks(tick_marks, classes)\n",
    "\n",
    "    fmt = '.2f' if normalize else 'd'\n",
    "    thresh = cm.max() / 2.\n",
    "    for i, j in itertools.product(range(cm.shape[0]), range(cm.shape[1])):\n",
    "        plt.text(j, i, format(cm[i, j], fmt),\n",
    "                 horizontalalignment=\"center\",\n",
    "                 color=\"white\" if cm[i, j] > thresh else \"black\")\n",
    "\n",
    "    plt.tight_layout()\n",
    "    plt.ylabel('True label')\n",
    "    plt.xlabel('Predicted label')\n",
    "\n",
    "# Compute confusion matrix\n",
    "cnf_matrix = confusion_matrix(y_test.argmax(axis=1), y_pred.argmax(axis=1))\n",
    "np.set_printoptions(precision=2)\n",
    "\n",
    "# Plot non-normalized confusion matrix\n",
    "plt.figure(figsize=(10, 10))\n",
    "plot_confusion_matrix(cnf_matrix, classes=['N', 'S', 'V', 'F', 'Q'],normalize=True,\n",
    "                      title='Confusion matrix, with normalization')\n",
    "plt.show()\n",
    "'''"
   ]
  },
  {
   "cell_type": "code",
   "execution_count": 29,
   "id": "e5c1e2e3-580c-484f-9c03-c749360cb6ec",
   "metadata": {},
   "outputs": [],
   "source": [
    "thresh = 0.5 #sum(y_train)/len(y_train)"
   ]
  },
  {
   "cell_type": "code",
   "execution_count": 30,
   "id": "a4396019-0fb3-4162-9768-2512375ebc51",
   "metadata": {},
   "outputs": [],
   "source": [
    "threshpreds = y_pred > thresh"
   ]
  },
  {
   "cell_type": "code",
   "execution_count": 31,
   "id": "8d3f6897-cb92-45d8-8df4-795df790f89a",
   "metadata": {},
   "outputs": [
    {
     "name": "stdout",
     "output_type": "stream",
     "text": [
      "The f1 score for the testing data: 0.759993629558847\n"
     ]
    },
    {
     "data": {
      "image/png": "[encoded data removed]",
      "text/plain": [
       "<Figure size 500x400 with 1 Axes>"
      ]
     },
     "metadata": {},
     "output_type": "display_data"
    }
   ],
   "source": [
    "#Calculating and printing the f1 score \n",
    "f1_test = f1_score(y_test, threshpreds)\n",
    "print('The f1 score for the testing data:', f1_test)\n",
    "\n",
    "#Ploting the confusion matrix\n",
    "cf = confusion_matrix(y_test, threshpreds)\n",
    "plt.figure(figsize = (5,4))\n",
    "sns.heatmap(cf, annot=True, cmap='Blues', fmt='g', cbar=False)\n",
    "plt.xlabel(\"Predicted\")\n",
    "plt.ylabel(\"True\")\n",
    "plt.show()"
   ]
  },
  {
   "cell_type": "markdown",
   "id": "c904ba1f-e434-431a-bf8e-5730cb267bba",
   "metadata": {},
   "source": [
    "#### Bootstrapping"
   ]
  },
  {
   "cell_type": "code",
   "execution_count": 32,
   "id": "a4b10f5d-0ffb-4ad9-a68b-bba4737ae13b",
   "metadata": {},
   "outputs": [],
   "source": [
    "def bootstrap(X, y, n_samples=20):\n",
    "    models = []\n",
    "    metrics = {\"Precision\": [], \"Recall\": [], \"F1\": []}\n",
    "    sample_indices= []\n",
    " \n",
    "    for i in range(n_samples):\n",
    "        # Bootstrap resampling\n",
    "        indices = np.random.choice(X.shape[0], size=X.shape[0], replace=True)\n",
    "        sample_indices.append(indices)\n",
    "        X_sample = X.iloc[indices, :].values\n",
    "        y_sample = y.loc[indices].values\n",
    " \n",
    "        # Train-test split\n",
    "        X_train, X_test, y_train, y_test = train_test_split(\n",
    "            X_sample, y_sample, test_size=0.33, random_state=42\n",
    "        )\n",
    "\n",
    "        for j in range(len(X_train)):\n",
    "            X_train[j,:186]= add_gaussian_noise(X_train[j,:186])\n",
    "        X_train = X_train.reshape(len(X_train), X_train.shape[1],1)\n",
    "        X_test = X_test.reshape(len(X_test), X_test.shape[1],1)\n",
    "\n",
    "        model,history=network(X_train,y_train,X_test,y_test)\n",
    " \n",
    "        # Evaluate the model\n",
    "        y_pred = model.predict(X_test)\n",
    "        thresh = 0.5 #sum(y_train)/len(y_train) #or np.mean(y_train)  Compute threshold\n",
    "        metrics[\"Precision\"].append(precision_score(y_test, (y_pred > thresh), average=\"macro\"))\n",
    "        metrics[\"Recall\"].append(recall_score(y_test, (y_pred > thresh), average=\"macro\"))\n",
    "        metrics[\"F1\"].append(f1_score(y_test, (y_pred > thresh), average=\"macro\"))\n",
    " \n",
    "        # Save the trained model\n",
    "        models.append(model)\n",
    " \n",
    "    # Create a DataFrame to store results\n",
    "    pred_df = pd.DataFrame({\n",
    "        \"Precision\": metrics[\"Precision\"],\n",
    "        \"Recall\": metrics[\"Recall\"],\n",
    "        \"F1\": metrics[\"F1\"],\n",
    "        \"Models\": models,\n",
    "        \"Sample_indices\": sample_indices,\n",
    "    })\n",
    " \n",
    "    return models, pred_df"
   ]
  },
  {
   "cell_type": "code",
   "execution_count": 33,
   "id": "ecf339a6-9534-41b5-8874-f4e3f02cc941",
   "metadata": {},
   "outputs": [
    {
     "name": "stdout",
     "output_type": "stream",
     "text": [
      "903/903 [==============================] - 4s 4ms/step\n",
      "903/903 [==============================] - 4s 4ms/step\n",
      "903/903 [==============================] - 4s 4ms/step\n",
      "903/903 [==============================] - 4s 4ms/step\n",
      "903/903 [==============================] - 4s 4ms/step\n",
      "903/903 [==============================] - 4s 4ms/step\n",
      "903/903 [==============================] - 4s 4ms/step\n",
      "903/903 [==============================] - 4s 4ms/step\n",
      "903/903 [==============================] - 4s 4ms/step\n",
      "903/903 [==============================] - 4s 4ms/step\n",
      "903/903 [==============================] - 4s 4ms/step\n",
      "903/903 [==============================] - 4s 4ms/step\n",
      "903/903 [==============================] - 4s 4ms/step\n",
      "903/903 [==============================] - 4s 4ms/step\n",
      "903/903 [==============================] - 4s 4ms/step\n",
      "903/903 [==============================] - 4s 4ms/step\n",
      "903/903 [==============================] - 4s 4ms/step\n",
      "903/903 [==============================] - 4s 4ms/step\n",
      "903/903 [==============================] - 4s 4ms/step\n",
      "903/903 [==============================] - 4s 4ms/step\n"
     ]
    }
   ],
   "source": [
    "models, pred_df = bootstrap(train_df.iloc[:,:186], train_df[187])"
   ]
  },
  {
   "cell_type": "code",
   "execution_count": 34,
   "id": "88fcb0ea-ade9-4225-a04a-4eac8ffe2207",
   "metadata": {},
   "outputs": [
    {
     "data": {
      "text/html": [
       "<div>\n",
       "<style scoped>\n",
       "    .dataframe tbody tr th:only-of-type {\n",
       "        vertical-align: middle;\n",
       "    }\n",
       "\n",
       "    .dataframe tbody tr th {\n",
       "        vertical-align: top;\n",
       "    }\n",
       "\n",
       "    .dataframe thead th {\n",
       "        text-align: right;\n",
       "    }\n",
       "</style>\n",
       "<table border=\"1\" class=\"dataframe\">\n",
       "  <thead>\n",
       "    <tr style=\"text-align: right;\">\n",
       "      <th></th>\n",
       "      <th>Precision</th>\n",
       "      <th>Recall</th>\n",
       "      <th>F1</th>\n",
       "      <th>Models</th>\n",
       "      <th>Sample_indices</th>\n",
       "    </tr>\n",
       "  </thead>\n",
       "  <tbody>\n",
       "    <tr>\n",
       "      <th>0</th>\n",
       "      <td>0.939753</td>\n",
       "      <td>0.819696</td>\n",
       "      <td>0.864816</td>\n",
       "      <td>&lt;keras.src.engine.functional.Functional object...</td>\n",
       "      <td>[56261, 68578, 66317, 25409, 27682, 83626, 323...</td>\n",
       "    </tr>\n",
       "    <tr>\n",
       "      <th>1</th>\n",
       "      <td>0.935511</td>\n",
       "      <td>0.822001</td>\n",
       "      <td>0.865531</td>\n",
       "      <td>&lt;keras.src.engine.functional.Functional object...</td>\n",
       "      <td>[78935, 82456, 70209, 11040, 11752, 70174, 616...</td>\n",
       "    </tr>\n",
       "    <tr>\n",
       "      <th>2</th>\n",
       "      <td>0.909318</td>\n",
       "      <td>0.732548</td>\n",
       "      <td>0.784337</td>\n",
       "      <td>&lt;keras.src.engine.functional.Functional object...</td>\n",
       "      <td>[54467, 24083, 52078, 5292, 32923, 78826, 2695...</td>\n",
       "    </tr>\n",
       "    <tr>\n",
       "      <th>3</th>\n",
       "      <td>0.913972</td>\n",
       "      <td>0.824472</td>\n",
       "      <td>0.860409</td>\n",
       "      <td>&lt;keras.src.engine.functional.Functional object...</td>\n",
       "      <td>[46817, 72929, 27650, 3128, 53762, 10919, 3263...</td>\n",
       "    </tr>\n",
       "    <tr>\n",
       "      <th>4</th>\n",
       "      <td>0.925775</td>\n",
       "      <td>0.754979</td>\n",
       "      <td>0.808191</td>\n",
       "      <td>&lt;keras.src.engine.functional.Functional object...</td>\n",
       "      <td>[84830, 5847, 72274, 80744, 13749, 76425, 8427...</td>\n",
       "    </tr>\n",
       "    <tr>\n",
       "      <th>5</th>\n",
       "      <td>0.903688</td>\n",
       "      <td>0.793538</td>\n",
       "      <td>0.834838</td>\n",
       "      <td>&lt;keras.src.engine.functional.Functional object...</td>\n",
       "      <td>[70567, 66235, 83221, 70798, 2743, 77834, 2162...</td>\n",
       "    </tr>\n",
       "    <tr>\n",
       "      <th>6</th>\n",
       "      <td>0.823392</td>\n",
       "      <td>0.720364</td>\n",
       "      <td>0.755589</td>\n",
       "      <td>&lt;keras.src.engine.functional.Functional object...</td>\n",
       "      <td>[70870, 44884, 11899, 9252, 31355, 71771, 7922...</td>\n",
       "    </tr>\n",
       "    <tr>\n",
       "      <th>7</th>\n",
       "      <td>0.869861</td>\n",
       "      <td>0.811250</td>\n",
       "      <td>0.836339</td>\n",
       "      <td>&lt;keras.src.engine.functional.Functional object...</td>\n",
       "      <td>[3536, 17407, 85919, 12872, 56551, 17470, 7211...</td>\n",
       "    </tr>\n",
       "    <tr>\n",
       "      <th>8</th>\n",
       "      <td>0.859555</td>\n",
       "      <td>0.816102</td>\n",
       "      <td>0.835382</td>\n",
       "      <td>&lt;keras.src.engine.functional.Functional object...</td>\n",
       "      <td>[46871, 53151, 16725, 44842, 43996, 42894, 511...</td>\n",
       "    </tr>\n",
       "    <tr>\n",
       "      <th>9</th>\n",
       "      <td>0.933228</td>\n",
       "      <td>0.768406</td>\n",
       "      <td>0.821579</td>\n",
       "      <td>&lt;keras.src.engine.functional.Functional object...</td>\n",
       "      <td>[72149, 38796, 13301, 21350, 79258, 18972, 746...</td>\n",
       "    </tr>\n",
       "    <tr>\n",
       "      <th>10</th>\n",
       "      <td>0.761964</td>\n",
       "      <td>0.651784</td>\n",
       "      <td>0.682376</td>\n",
       "      <td>&lt;keras.src.engine.functional.Functional object...</td>\n",
       "      <td>[53781, 76271, 7260, 75690, 13596, 39713, 6425...</td>\n",
       "    </tr>\n",
       "    <tr>\n",
       "      <th>11</th>\n",
       "      <td>0.932616</td>\n",
       "      <td>0.808976</td>\n",
       "      <td>0.854836</td>\n",
       "      <td>&lt;keras.src.engine.functional.Functional object...</td>\n",
       "      <td>[9470, 49938, 78483, 6739, 49952, 45508, 52503...</td>\n",
       "    </tr>\n",
       "    <tr>\n",
       "      <th>12</th>\n",
       "      <td>0.916698</td>\n",
       "      <td>0.629636</td>\n",
       "      <td>0.669321</td>\n",
       "      <td>&lt;keras.src.engine.functional.Functional object...</td>\n",
       "      <td>[73928, 69685, 33642, 84073, 14493, 85848, 850...</td>\n",
       "    </tr>\n",
       "    <tr>\n",
       "      <th>13</th>\n",
       "      <td>0.909666</td>\n",
       "      <td>0.830652</td>\n",
       "      <td>0.863261</td>\n",
       "      <td>&lt;keras.src.engine.functional.Functional object...</td>\n",
       "      <td>[11443, 18317, 65043, 2413, 19642, 10521, 4693...</td>\n",
       "    </tr>\n",
       "    <tr>\n",
       "      <th>14</th>\n",
       "      <td>0.904291</td>\n",
       "      <td>0.704472</td>\n",
       "      <td>0.756171</td>\n",
       "      <td>&lt;keras.src.engine.functional.Functional object...</td>\n",
       "      <td>[41381, 82424, 23257, 25748, 57937, 13220, 595...</td>\n",
       "    </tr>\n",
       "    <tr>\n",
       "      <th>15</th>\n",
       "      <td>0.912216</td>\n",
       "      <td>0.752445</td>\n",
       "      <td>0.803383</td>\n",
       "      <td>&lt;keras.src.engine.functional.Functional object...</td>\n",
       "      <td>[52759, 365, 45439, 34292, 71132, 72337, 17404...</td>\n",
       "    </tr>\n",
       "    <tr>\n",
       "      <th>16</th>\n",
       "      <td>0.897337</td>\n",
       "      <td>0.759805</td>\n",
       "      <td>0.806263</td>\n",
       "      <td>&lt;keras.src.engine.functional.Functional object...</td>\n",
       "      <td>[41307, 24554, 19595, 76105, 69506, 2546, 1246...</td>\n",
       "    </tr>\n",
       "    <tr>\n",
       "      <th>17</th>\n",
       "      <td>0.934819</td>\n",
       "      <td>0.712863</td>\n",
       "      <td>0.768325</td>\n",
       "      <td>&lt;keras.src.engine.functional.Functional object...</td>\n",
       "      <td>[67521, 12229, 1952, 65997, 31711, 4063, 66307...</td>\n",
       "    </tr>\n",
       "    <tr>\n",
       "      <th>18</th>\n",
       "      <td>0.927595</td>\n",
       "      <td>0.658245</td>\n",
       "      <td>0.706889</td>\n",
       "      <td>&lt;keras.src.engine.functional.Functional object...</td>\n",
       "      <td>[50218, 27685, 44769, 58741, 79304, 47597, 528...</td>\n",
       "    </tr>\n",
       "    <tr>\n",
       "      <th>19</th>\n",
       "      <td>0.871930</td>\n",
       "      <td>0.705504</td>\n",
       "      <td>0.751982</td>\n",
       "      <td>&lt;keras.src.engine.functional.Functional object...</td>\n",
       "      <td>[16885, 83057, 73147, 61596, 33154, 32000, 440...</td>\n",
       "    </tr>\n",
       "  </tbody>\n",
       "</table>\n",
       "</div>"
      ],
      "text/plain": [
       "    Precision    Recall        F1  \\\n",
       "0    0.939753  0.819696  0.864816   \n",
       "1    0.935511  0.822001  0.865531   \n",
       "2    0.909318  0.732548  0.784337   \n",
       "3    0.913972  0.824472  0.860409   \n",
       "4    0.925775  0.754979  0.808191   \n",
       "5    0.903688  0.793538  0.834838   \n",
       "6    0.823392  0.720364  0.755589   \n",
       "7    0.869861  0.811250  0.836339   \n",
       "8    0.859555  0.816102  0.835382   \n",
       "9    0.933228  0.768406  0.821579   \n",
       "10   0.761964  0.651784  0.682376   \n",
       "11   0.932616  0.808976  0.854836   \n",
       "12   0.916698  0.629636  0.669321   \n",
       "13   0.909666  0.830652  0.863261   \n",
       "14   0.904291  0.704472  0.756171   \n",
       "15   0.912216  0.752445  0.803383   \n",
       "16   0.897337  0.759805  0.806263   \n",
       "17   0.934819  0.712863  0.768325   \n",
       "18   0.927595  0.658245  0.706889   \n",
       "19   0.871930  0.705504  0.751982   \n",
       "\n",
       "                                               Models  \\\n",
       "0   <keras.src.engine.functional.Functional object...   \n",
       "1   <keras.src.engine.functional.Functional object...   \n",
       "2   <keras.src.engine.functional.Functional object...   \n",
       "3   <keras.src.engine.functional.Functional object...   \n",
       "4   <keras.src.engine.functional.Functional object...   \n",
       "5   <keras.src.engine.functional.Functional object...   \n",
       "6   <keras.src.engine.functional.Functional object...   \n",
       "7   <keras.src.engine.functional.Functional object...   \n",
       "8   <keras.src.engine.functional.Functional object...   \n",
       "9   <keras.src.engine.functional.Functional object...   \n",
       "10  <keras.src.engine.functional.Functional object...   \n",
       "11  <keras.src.engine.functional.Functional object...   \n",
       "12  <keras.src.engine.functional.Functional object...   \n",
       "13  <keras.src.engine.functional.Functional object...   \n",
       "14  <keras.src.engine.functional.Functional object...   \n",
       "15  <keras.src.engine.functional.Functional object...   \n",
       "16  <keras.src.engine.functional.Functional object...   \n",
       "17  <keras.src.engine.functional.Functional object...   \n",
       "18  <keras.src.engine.functional.Functional object...   \n",
       "19  <keras.src.engine.functional.Functional object...   \n",
       "\n",
       "                                       Sample_indices  \n",
       "0   [56261, 68578, 66317, 25409, 27682, 83626, 323...  \n",
       "1   [78935, 82456, 70209, 11040, 11752, 70174, 616...  \n",
       "2   [54467, 24083, 52078, 5292, 32923, 78826, 2695...  \n",
       "3   [46817, 72929, 27650, 3128, 53762, 10919, 3263...  \n",
       "4   [84830, 5847, 72274, 80744, 13749, 76425, 8427...  \n",
       "5   [70567, 66235, 83221, 70798, 2743, 77834, 2162...  \n",
       "6   [70870, 44884, 11899, 9252, 31355, 71771, 7922...  \n",
       "7   [3536, 17407, 85919, 12872, 56551, 17470, 7211...  \n",
       "8   [46871, 53151, 16725, 44842, 43996, 42894, 511...  \n",
       "9   [72149, 38796, 13301, 21350, 79258, 18972, 746...  \n",
       "10  [53781, 76271, 7260, 75690, 13596, 39713, 6425...  \n",
       "11  [9470, 49938, 78483, 6739, 49952, 45508, 52503...  \n",
       "12  [73928, 69685, 33642, 84073, 14493, 85848, 850...  \n",
       "13  [11443, 18317, 65043, 2413, 19642, 10521, 4693...  \n",
       "14  [41381, 82424, 23257, 25748, 57937, 13220, 595...  \n",
       "15  [52759, 365, 45439, 34292, 71132, 72337, 17404...  \n",
       "16  [41307, 24554, 19595, 76105, 69506, 2546, 1246...  \n",
       "17  [67521, 12229, 1952, 65997, 31711, 4063, 66307...  \n",
       "18  [50218, 27685, 44769, 58741, 79304, 47597, 528...  \n",
       "19  [16885, 83057, 73147, 61596, 33154, 32000, 440...  "
      ]
     },
     "execution_count": 34,
     "metadata": {},
     "output_type": "execute_result"
    }
   ],
   "source": [
    "pred_df"
   ]
  },
  {
   "cell_type": "code",
   "execution_count": 35,
   "id": "f298f0fd-17be-4c6e-9954-ce5e4aea20a0",
   "metadata": {},
   "outputs": [
    {
     "data": {
      "text/plain": [
       "0.7964908083243071"
      ]
     },
     "execution_count": 35,
     "metadata": {},
     "output_type": "execute_result"
    }
   ],
   "source": [
    "pred_df['F1'].mean()"
   ]
  },
  {
   "cell_type": "code",
   "execution_count": 36,
   "id": "08c6e1ac-5c1a-4d52-a441-662566ba352c",
   "metadata": {},
   "outputs": [
    {
     "name": "stdout",
     "output_type": "stream",
     "text": [
      "Confidence interval: (0.675522283651776, 0.8651909547420272)\n"
     ]
    }
   ],
   "source": [
    "# Confidence level\n",
    "confidence_level = 95\n",
    "\n",
    "# Calculating lower and upper percentiles based on confidence level\n",
    "alpha = (100 - confidence_level) / 2\n",
    "lower_percentile = np.percentile(pred_df['F1'], alpha)\n",
    "upper_percentile = np.percentile(pred_df['F1'], 100 - alpha)\n",
    "\n",
    "# Confidence interval\n",
    "confidence_interval = (lower_percentile, upper_percentile)\n",
    "\n",
    "print(\"Confidence interval:\", confidence_interval)"
   ]
  },
  {
   "cell_type": "code",
   "execution_count": null,
   "id": "00aa644a-831c-481f-9105-e92447fc7f19",
   "metadata": {},
   "outputs": [],
   "source": []
  }
 ],
 "metadata": {
  "kernelspec": {
   "display_name": "Python 3 (ipykernel)",
   "language": "python",
   "name": "python3"
  },
  "language_info": {
   "codemirror_mode": {
    "name": "ipython",
    "version": 3
   },
   "file_extension": ".py",
   "mimetype": "text/x-python",
   "name": "python",
   "nbconvert_exporter": "python",
   "pygments_lexer": "ipython3",
   "version": "3.11.5"
  }
 },
 "nbformat": 4,
 "nbformat_minor": 5
}
